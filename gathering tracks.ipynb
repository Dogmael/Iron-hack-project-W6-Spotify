{
 "cells": [
  {
   "cell_type": "markdown",
   "metadata": {},
   "source": [
    "### Importing librairies"
   ]
  },
  {
   "cell_type": "code",
   "execution_count": 1,
   "metadata": {},
   "outputs": [],
   "source": [
    "import spotipy\n",
    "from spotipy.oauth2 import SpotifyClientCredentials\n",
    "import getpass\n",
    "import pprint\n",
    "import pandas as pd\n",
    "from sqlalchemy import create_engine\n",
    "import re\n",
    "import time"
   ]
  },
  {
   "cell_type": "markdown",
   "metadata": {},
   "source": [
    "### API connection"
   ]
  },
  {
   "cell_type": "code",
   "execution_count": 3,
   "metadata": {},
   "outputs": [],
   "source": [
    "c_id = getpass.getpass()\n",
    "c_se = getpass.getpass()"
   ]
  },
  {
   "cell_type": "code",
   "execution_count": 4,
   "metadata": {},
   "outputs": [],
   "source": [
    "sp = spotipy.Spotify(auth_manager=SpotifyClientCredentials(client_id=c_id, client_secret=c_se, requests_timeout=1000))"
   ]
  },
  {
   "cell_type": "markdown",
   "metadata": {},
   "source": [
    "### Database connexion"
   ]
  },
  {
   "cell_type": "code",
   "execution_count": null,
   "metadata": {},
   "outputs": [],
   "source": [
    "pw = \"password1999\"\n",
    "connection_string = 'mysql+pymysql://root:' + pw + '@localhost:3306/'\n",
    "engine = create_engine(connection_string, pool_pre_ping = False)"
   ]
  },
  {
   "cell_type": "markdown",
   "metadata": {},
   "source": [
    "### Get maximum from genres"
   ]
  },
  {
   "cell_type": "code",
   "execution_count": null,
   "metadata": {},
   "outputs": [],
   "source": [
    "def tracks_items_to_df(tracks_items) :\n",
    "    result = pd.DataFrame(columns=[\"track_id\",\"track_name\",\"track_preview_url\",\"track_popularity\",\"track_duration\",\"artists_id\",\"artists_name\",\"album_id\",\"album_name\",\"album_ release_date\"])\n",
    "\n",
    "    traks_fields = {\"track_id\":\"id\",\"track_name\":\"name\",\"track_preview_url\":\"preview_url\",\"track_duration\":\"duration_ms\",\"track_explicit\":\"explicit\",\"track_popularity\":\"popularity\"}\n",
    "    artist_fields = {\"artist_id\":\"id\",\"artist_name\":\"name\"}\n",
    "    album_fields = {\"album_id\":\"id\",\"album_name\":\"name\",\"album_release_date\":\"release_date\"}\n",
    "\n",
    "    dicts_list = []\n",
    "\n",
    "    for item in tracks_items :\n",
    "        row = {} \n",
    "        for field in traks_fields.items() : \n",
    "            row[field[0]] = item[field[1]]\n",
    "\n",
    "        for artist in item[\"artists\"]: # Comment c'est géré quand il y a plusieurs artistes ?\n",
    "            for field in artist_fields.items() : \n",
    "                row[field[0]] = artist[field[1]]\n",
    "\n",
    "        for field in album_fields.items() : \n",
    "            row[field[0]] = item[\"album\"][field[1]]\n",
    "       \n",
    "        dicts_list.append(row)\n",
    "\n",
    "    return pd.DataFrame(dicts_list)\n",
    "    "
   ]
  },
  {
   "cell_type": "code",
   "execution_count": null,
   "metadata": {},
   "outputs": [],
   "source": [
    "genres = [\"acoustic\", \"afrobeat\", \"alt-rock\", \"alternative\", \"ambient\", \"anime\", \"black-metal\", \"bluegrass\", \"blues\", \"brazil\", \"breakbeat\", \"british\", \"cantopop\", \"chicago-house\", \"children\", \"chill\", \"classical\", \"club\", \"comedy\", \"country\", \"dance\", \"dancehall\", \"death-metal\", \"deep-house\", \"detroit-techno\", \"disco\", \"drum-and-bass\", \"dub\", \"dubstep\", \"edm\", \"electro\", \"electronic\", \"emo\", \"folk\", \"forro\", \"french\", \"funk\", \"garage\", \"german\", \"gospel\", \"goth\", \"grindcore\", \"groove\", \"grunge\", \"guitar\", \"happy\", \"hard-rock\", \"hardcore\", \"hardstyle\", \"heavy-metal\", \"hip-hop\", \"honky-tonk\", \"house\", \"idm\", \"indian\", \"indie\", \"indie-pop\", \"industrial\", \"iranian\", \"j-dance\", \"j-idol\", \"j-pop\", \"j-rock\", \"jazz\", \"k-pop\", \"kids\", \"latin\", \"latino\", \"malay\", \"mandopop\", \"metal\", \"metalcore\", \"minimal-techno\",  \"mpb\", \"new-age\", \"opera\", \"pagode\", \"party\", \"piano\", \"pop\", \"pop-film\", \"power-pop\", \"progressive-house\", \"psych-rock\", \"punk\", \"punk-rock\", \"r-n-b\", \"reggae\", \"reggaeton\",\"rock\", \"rock-n-roll\", \"rockabilly\", \"romance\", \"sad\", \"salsa\", \"samba\", \"sertanejo\", \"show-tunes\", \"singer-songwriter\", \"ska\", \"sleep\", \"songwriter\", \"soul\", \"spanish\", \"study\", \"swedish\", \"synth-pop\", \"tango\", \"techno\", \"trance\", \"trip-hop\", \"turkish\", \"world-music\"]"
   ]
  },
  {
   "cell_type": "code",
   "execution_count": null,
   "metadata": {},
   "outputs": [],
   "source": [
    "def get_df_from_genres(genres) :\n",
    "    df = pd.DataFrame(columns=[\"track_id\",\"track_name\",\"track_genre\",\"track_preview_url\",\"track_popularity\",\"track_duration\",\"artist_id\",\"artist_name\",\"album_id\",\"album_name\",\"album_release_date\"])\n",
    "    for genre in genres :\n",
    "        df_genre = pd.DataFrame(columns=[\"track_id\",\"track_name\",\"track_genre\",\"track_preview_url\",\"track_popularity\",\"track_duration\",\"artist_id\",\"artist_name\",\"album_id\",\"album_name\",\"album_release_date\"])\n",
    "        for offset in range(0,1000,50) :\n",
    "\n",
    "            query = \"genre:{}\".format(genre)\n",
    "            df_offset = sp.search(q=query, type='track', limit=50, offset = offset)[\"tracks\"][\"items\"]\n",
    "            df_offset = tracks_items_to_df(df_offset)\n",
    "            try : \n",
    "                df_offset.insert(2,\"track_genre\",genre)\n",
    "            except : # if it's fail to get specific genre\n",
    "                print(genre) \n",
    "                break\n",
    "\n",
    "            df_genre = pd.concat([df_genre,df_offset])\n",
    "\n",
    "        df_genre.to_sql(\"df_{}\".format(genre.replace(\"-\",\"\")), connection_string, schema='spotify', if_exists='replace', index = False)\n",
    "        \n",
    "        df = pd.concat([df,df_genre])\n",
    "\n",
    "    return df"
   ]
  },
  {
   "cell_type": "code",
   "execution_count": null,
   "metadata": {},
   "outputs": [],
   "source": [
    "df = get_df_from_genres(genres)"
   ]
  },
  {
   "cell_type": "code",
   "execution_count": null,
   "metadata": {},
   "outputs": [],
   "source": [
    "df.to_sql(\"df_all_genres\", connection_string, schema='spotify', if_exists='replace', index = False)"
   ]
  },
  {
   "cell_type": "markdown",
   "metadata": {},
   "source": [
    "### Merging tables to df_all_genres"
   ]
  },
  {
   "cell_type": "code",
   "execution_count": null,
   "metadata": {},
   "outputs": [],
   "source": [
    "tables_names = [\"df_{}\".format(genre.replace(\"-\",\"\")) for genre in genres]"
   ]
  },
  {
   "cell_type": "code",
   "execution_count": null,
   "metadata": {},
   "outputs": [],
   "source": [
    "df_all_genres = pd.read_sql(\"SELECT * FROM `spotify`.`{}`\".format(tables_names[0]), engine)\n",
    "\n",
    "for table in tables_names[1:] :\n",
    "    MYSQL_CONNECTION_STRING = \"mysql://root@localhost/ironhack\"\n",
    "    df_genre = pd.read_sql(\"SELECT * FROM spotify.{}\".format(table), engine)\n",
    "    df_all_genres = pd.concat([df_all_genres,df_genre])\n",
    "\n",
    "df_all_genres"
   ]
  },
  {
   "cell_type": "markdown",
   "metadata": {},
   "source": [
    "### Get more tracks with recommandations"
   ]
  },
  {
   "cell_type": "code",
   "execution_count": null,
   "metadata": {},
   "outputs": [],
   "source": [
    "def get_rec(df):\n",
    "    df_1 = pd.DataFrame()\n",
    "    for i in range(len(df)):\n",
    "        r = sp.recommendations(seed_artists=[str(df['artist_id'][i])],seed_tracks=[str(df['track_id'][i])],seed_genres=[df[\"track_genre\"][i]],limit=100) #adapt seed_genres\n",
    "        df_2 = tracks_items_to_df(r['tracks'])\n",
    "        df_1 = pd.concat([df_1,df_2]).reset_index(drop=True)\n",
    "    return df_1"
   ]
  },
  {
   "cell_type": "code",
   "execution_count": null,
   "metadata": {},
   "outputs": [],
   "source": [
    "for genre in genres :\n",
    "    print(\"start genre : {}\".format(genre))\n",
    "    df = pd.read_sql(\"SELECT * FROM spotify.df_{}\".format(genre.replace(\"-\",\"\")), engine)\n",
    "    df_reco = get_rec(df.loc[:100,:])\n",
    "    df_reco.to_sql(\"df_{}_reco\".format(genre.replace(\"-\",\"\")), connection_string, schema='spotify', if_exists='replace', index = False)"
   ]
  },
  {
   "cell_type": "markdown",
   "metadata": {},
   "source": [
    "### Merging reco tables"
   ]
  },
  {
   "cell_type": "code",
   "execution_count": null,
   "metadata": {},
   "outputs": [],
   "source": [
    "reco_tables = [\"df_{}_reco\".format(genre.replace(\"-\",\"\")) for genre in genres ]"
   ]
  },
  {
   "cell_type": "markdown",
   "metadata": {},
   "source": [
    "Ajouter colonne \"genre de provenance\" ajouter les audios features, merge "
   ]
  },
  {
   "cell_type": "code",
   "execution_count": null,
   "metadata": {},
   "outputs": [],
   "source": [
    "def merging_reco_tables() :\n",
    "    pattern = \"(?<=_)[^_]+(?=_)\"\n",
    "\n",
    "    df_reco = pd.read_sql(\"SELECT * FROM `spotify`.`{}`\".format(reco_tables[0]), engine)\n",
    "    df_reco.insert(2,\"track_genre\",re.search(pattern, reco_tables[0]).group(0))\n",
    "\n",
    "    for table_name in reco_tables[1:] :\n",
    "        df_table = pd.read_sql(\"SELECT * FROM `spotify`.`{}`\".format(table_name), engine) #import table in df\n",
    "        df_table.insert(2,\"track_genre\",re.search(pattern, table_name).group(0)) #add the column \"track_genre\" to df\n",
    "        df_reco = pd.concat([df_reco,df_table])\n",
    "    \n",
    "    return df_reco"
   ]
  },
  {
   "cell_type": "code",
   "execution_count": null,
   "metadata": {},
   "outputs": [],
   "source": [
    "df_merger_reco = merging_reco_tables()"
   ]
  }
 ],
 "metadata": {
  "kernelspec": {
   "display_name": "bootcamp",
   "language": "python",
   "name": "python3"
  },
  "language_info": {
   "codemirror_mode": {
    "name": "ipython",
    "version": 3
   },
   "file_extension": ".py",
   "mimetype": "text/x-python",
   "name": "python",
   "nbconvert_exporter": "python",
   "pygments_lexer": "ipython3",
   "version": "3.10.10"
  },
  "orig_nbformat": 4
 },
 "nbformat": 4,
 "nbformat_minor": 2
}
