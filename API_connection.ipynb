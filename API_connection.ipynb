{
 "cells": [
  {
   "cell_type": "markdown",
   "metadata": {},
   "source": [
    "### Importing librairies"
   ]
  },
  {
   "cell_type": "code",
   "execution_count": 72,
   "metadata": {},
   "outputs": [],
   "source": [
    "import spotipy\n",
    "from spotipy.oauth2 import SpotifyClientCredentials\n",
    "import getpass\n",
    "import pprint\n",
    "import pandas as pd"
   ]
  },
  {
   "cell_type": "markdown",
   "metadata": {},
   "source": [
    "### API connection"
   ]
  },
  {
   "cell_type": "code",
   "execution_count": null,
   "metadata": {},
   "outputs": [],
   "source": [
    "c_id = getpass.getpass()\n",
    "c_se = getpass.getpass()"
   ]
  },
  {
   "cell_type": "code",
   "execution_count": null,
   "metadata": {},
   "outputs": [],
   "source": [
    "sp = spotipy.Spotify(auth_manager=SpotifyClientCredentials(client_id=c_id, client_secret=c_se))"
   ]
  },
  {
   "cell_type": "markdown",
   "metadata": {},
   "source": [
    "### Get maximum of track uri"
   ]
  },
  {
   "cell_type": "markdown",
   "metadata": {},
   "source": [
    "Mise en forme des données : 2 tables : \n",
    "- une avec les infos du son (titre, allbum, artist name...)\n",
    "- une avec les données de l'analyse\n",
    "Les deux liés par l'URI"
   ]
  },
  {
   "cell_type": "markdown",
   "metadata": {},
   "source": [
    "On va récupérer un maximum d'URI à l'aide d'une query sur les styles dans un permier temps. Ensuite nous complèterons avec l'aide des recommandations et des playlistes."
   ]
  },
  {
   "cell_type": "code",
   "execution_count": null,
   "metadata": {},
   "outputs": [],
   "source": [
    "musical_styles = [\"Rock\", \"Pop\", \"Hip-Hop\", \"Rap\", \"R&B\", \"Country\", \"Electronic\", \"Jazz\", \"Classical\", \"Blues\", \"Reggae\", \"Funk\", \"Indie\", \"Metal\", \"Punk\", \"Folk\", \"Dance\", \"World\", \"Latin\", \"Alternative\", \"Gospel\", \"Soul\", \"Disco\", \"House\", \"Techno\", \"EDM\", \"Dubstep\", \"Trance\", \"Chillout\", \"Ambient\", \"Funk\", \"Jazz\", \"Swing\", \"Country\", \"Bluegrass\", \"Fusion\", \"Latin Jazz\", \"Big Band\", \"Symphonic\", \"Chamber\", \"Orchestral\", \"Opera\", \"Baroque\", \"Choral\", \"Renaissance\", \"Acoustic\", \"Delta Blues\", \"Chicago Blues\", \"Soul Blues\", \"Boogie Woogie\", \"Piano Blues\", \"Dub\", \"Ska\", \"Rocksteady\", \"Soca\", \"Calypso\", \"Merengue\", \"Salsa\", \"Cumbia\", \"Tango\", \"Bachata\", \"Flamenco\", \"Mariachi\", \"Sertanejo\", \"Forró\", \"Pagode\", \"Fado\", \"K-Pop\", \"J-Pop\", \"C-Pop\", \"Reggaeton\", \"Trap\", \"Hardstyle\", \"Grime\", \"Electroswing\", \"Breakbeat\", \"IDM\", \"Downtempo\", \"Industrial\", \"Nu-Metal\", \"Grunge\", \"Death Metal\", \"Thrash Metal\", \"Progressive Metal\", \"Post-Rock\", \"Shoegaze\", \"Post-Punk\", \"Psychedelic\", \"Post-Metal\", \"Experimental\", \"Neoclassical\", \"Soundtrack\", \"New Age\", \"Celtic\", \"Gothic\", \"Fusion\", \"Worldbeat\", \"Bollywood\", \"Funk\", \"Raggacore\", \"Trip Hop\"]"
   ]
  },
  {
   "cell_type": "code",
   "execution_count": 106,
   "metadata": {},
   "outputs": [],
   "source": [
    "query = \"genre:'rock'\"\n",
    "search_results = sp.search(q=query, type='playlist', limit=50)  #track_info.keys() retourne pas plus d'info"
   ]
  },
  {
   "cell_type": "code",
   "execution_count": null,
   "metadata": {},
   "outputs": [],
   "source": [
    "def get_playlist_id() # musical_styles as input, and output dict : {\"musical_syle\": [id1,id2]}"
   ]
  },
  {
   "cell_type": "code",
   "execution_count": null,
   "metadata": {},
   "outputs": [],
   "source": [
    "def get_tracks_id_from_playlist_id() : #return a Pandas dataframe with columns : \"track_id\ttrack_uri\ttrack_name\ttrack_artists\ttrack_preview_url\ttrack_popularity\talbum_id\talbum_name\talbum_uri\talbum_ release_date\""
   ]
  },
  {
   "cell_type": "code",
   "execution_count": null,
   "metadata": {},
   "outputs": [],
   "source": []
  },
  {
   "cell_type": "code",
   "execution_count": 115,
   "metadata": {},
   "outputs": [],
   "source": [
    "search_results = sp.category_playlists(category_id= 'rock')"
   ]
  },
  {
   "cell_type": "code",
   "execution_count": 131,
   "metadata": {},
   "outputs": [
    {
     "data": {
      "text/plain": [
       "{'spotify': 'https://open.spotify.com/playlist/37i9dQZF1DX8HxJlVUR3HN'}"
      ]
     },
     "execution_count": 131,
     "metadata": {},
     "output_type": "execute_result"
    }
   ],
   "source": [
    "search_results[\"playlists\"][\"items\"][3][\"external_urls\"]"
   ]
  },
  {
   "cell_type": "code",
   "execution_count": 123,
   "metadata": {},
   "outputs": [
    {
     "data": {
      "text/plain": [
       "dict_keys(['collaborative', 'description', 'external_urls', 'href', 'id', 'images', 'name', 'owner', 'primary_color', 'public', 'snapshot_id', 'tracks', 'type', 'uri'])"
      ]
     },
     "execution_count": 123,
     "metadata": {},
     "output_type": "execute_result"
    }
   ],
   "source": [
    "search_results[\"playlists\"][\"items\"][0].keys()"
   ]
  },
  {
   "cell_type": "code",
   "execution_count": 88,
   "metadata": {},
   "outputs": [
    {
     "ename": "KeyError",
     "evalue": "'tracks'",
     "output_type": "error",
     "traceback": [
      "\u001b[0;31m---------------------------------------------------------------------------\u001b[0m",
      "\u001b[0;31mKeyError\u001b[0m                                  Traceback (most recent call last)",
      "Cell \u001b[0;32mIn[88], line 1\u001b[0m\n\u001b[0;32m----> 1\u001b[0m search_results[\u001b[39m\"\u001b[39;49m\u001b[39mtracks\u001b[39;49m\u001b[39m\"\u001b[39;49m]\u001b[39m.\u001b[39mkeys() \u001b[39m#Nested dictionnary\u001b[39;00m\n\u001b[1;32m      2\u001b[0m pprint\u001b[39m.\u001b[39mpprint(search_results[\u001b[39m\"\u001b[39m\u001b[39mtracks\u001b[39m\u001b[39m\"\u001b[39m][\u001b[39m\"\u001b[39m\u001b[39mitems\u001b[39m\u001b[39m\"\u001b[39m][\u001b[39m0\u001b[39m][\u001b[39m\"\u001b[39m\u001b[39mpopularity\u001b[39m\u001b[39m\"\u001b[39m]) \u001b[39m# On est interessé par : 'album'(-> 'name', 'artist'->'name'), 'artists','duration_ms','id','uri','preview_url','explicit','name','popularity'\u001b[39;00m\n",
      "\u001b[0;31mKeyError\u001b[0m: 'tracks'"
     ]
    }
   ],
   "source": [
    "search_results[\"tracks\"].keys() #Nested dictionnary\n",
    "pprint.pprint(search_results[\"tracks\"][\"items\"][0][\"popularity\"]) # On est interessé par : 'album'(-> 'name', 'artist'->'name'), 'artists','duration_ms','id','uri','preview_url','explicit','name','popularity'"
   ]
  },
  {
   "cell_type": "code",
   "execution_count": null,
   "metadata": {},
   "outputs": [],
   "source": []
  },
  {
   "cell_type": "markdown",
   "metadata": {},
   "source": [
    "### Get audio feautures from tracks URI"
   ]
  },
  {
   "cell_type": "code",
   "execution_count": 64,
   "metadata": {},
   "outputs": [
    {
     "data": {
      "text/plain": [
       "dict_keys(['danceability', 'energy', 'key', 'loudness', 'mode', 'speechiness', 'acousticness', 'instrumentalness', 'liveness', 'valence', 'tempo', 'type', 'id', 'uri', 'track_href', 'analysis_url', 'duration_ms', 'time_signature'])"
      ]
     },
     "execution_count": 64,
     "metadata": {},
     "output_type": "execute_result"
    }
   ],
   "source": [
    "# get audio features, et audio analysis\n",
    "sp.audio_analysis(\"spotify:track:2QjOHCTQ1Jl3zawyYOpxh6\") #Too much\n",
    "sp.audio_features(\"spotify:track:2QjOHCTQ1Jl3zawyYOpxh6\")[0].keys() #Ce qu'on va utiliser"
   ]
  },
  {
   "cell_type": "code",
   "execution_count": null,
   "metadata": {},
   "outputs": [],
   "source": [
    "# for style in musical_styles : \n",
    "#     query = \"genre:'{}'\".format(style)\n",
    "#     search_results = sp.search(q=query, type='track', limit=50)  # Limitez le nombre de résultats ici"
   ]
  },
  {
   "cell_type": "code",
   "execution_count": null,
   "metadata": {},
   "outputs": [],
   "source": [
    "import "
   ]
  }
 ],
 "metadata": {
  "kernelspec": {
   "display_name": "bootcamp",
   "language": "python",
   "name": "python3"
  },
  "language_info": {
   "codemirror_mode": {
    "name": "ipython",
    "version": 3
   },
   "file_extension": ".py",
   "mimetype": "text/x-python",
   "name": "python",
   "nbconvert_exporter": "python",
   "pygments_lexer": "ipython3",
   "version": "3.10.10"
  },
  "orig_nbformat": 4
 },
 "nbformat": 4,
 "nbformat_minor": 2
}
