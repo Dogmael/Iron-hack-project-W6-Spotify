{
 "cells": [
  {
   "cell_type": "markdown",
   "metadata": {},
   "source": [
    "### Importing librairies"
   ]
  },
  {
   "cell_type": "code",
   "execution_count": null,
   "metadata": {},
   "outputs": [],
   "source": [
    "import spotipy\n",
    "from spotipy.oauth2 import SpotifyClientCredentials\n",
    "import getpass\n",
    "import pprint\n",
    "import pandas as pd\n",
    "from sqlalchemy import create_engine"
   ]
  },
  {
   "cell_type": "markdown",
   "metadata": {},
   "source": [
    "### API connection"
   ]
  },
  {
   "cell_type": "code",
   "execution_count": null,
   "metadata": {},
   "outputs": [],
   "source": [
    "c_id = getpass.getpass()\n",
    "c_se = getpass.getpass()"
   ]
  },
  {
   "cell_type": "code",
   "execution_count": null,
   "metadata": {},
   "outputs": [],
   "source": [
    "sp = spotipy.Spotify(auth_manager=SpotifyClientCredentials(client_id=c_id, client_secret=c_se, requests_timeout=1000))"
   ]
  },
  {
   "cell_type": "markdown",
   "metadata": {},
   "source": [
    "Check if tracks_items_to_df() work with sevreal artists\n",
    "Add genres\n",
    "Add iteration throght pages\n"
   ]
  },
  {
   "cell_type": "markdown",
   "metadata": {},
   "source": [
    "### Database connexion"
   ]
  },
  {
   "cell_type": "code",
   "execution_count": null,
   "metadata": {},
   "outputs": [],
   "source": [
    "pw = \"password1999\"\n",
    "connection_string = 'mysql+pymysql://root:' + pw + '@localhost:3306/'\n",
    "engine = create_engine(connection_string, pool_pre_ping = False)"
   ]
  },
  {
   "cell_type": "markdown",
   "metadata": {},
   "source": [
    "### Get maximum of track uri"
   ]
  },
  {
   "cell_type": "markdown",
   "metadata": {},
   "source": [
    "Mise en forme des données : 2 tables : \n",
    "- une avec les infos du son (titre, allbum, artist name...)\n",
    "- une avec les données de l'analyse\n",
    "Les deux liés par l'URI"
   ]
  },
  {
   "cell_type": "code",
   "execution_count": null,
   "metadata": {},
   "outputs": [],
   "source": [
    "def tracks_items_to_df(tracks_items) :\n",
    "    result = pd.DataFrame(columns=[\"track_id\",\"track_name\",\"track_preview_url\",\"track_popularity\",\"track_duration\",\"artists_id\",\"artists_name\",\"album_id\",\"album_name\",\"album_ release_date\"])\n",
    "\n",
    "    traks_fields = {\"track_id\":\"id\",\"track_name\":\"name\",\"track_preview_url\":\"preview_url\",\"track_duration\":\"duration_ms\",\"track_explicit\":\"explicit\",\"track_popularity\":\"popularity\"}\n",
    "    artist_fields = {\"artist_id\":\"id\",\"artist_name\":\"name\"}\n",
    "    album_fields = {\"album_id\":\"id\",\"album_name\":\"name\",\"album_release_date\":\"release_date\"}\n",
    "\n",
    "    dicts_list = []\n",
    "\n",
    "    for item in tracks_items :\n",
    "        row = {} \n",
    "        for field in traks_fields.items() : \n",
    "            row[field[0]] = item[field[1]]\n",
    "\n",
    "        for artist in item[\"artists\"]: # Comment c'est géré quand il y a plusieurs artistes ?\n",
    "            for field in artist_fields.items() : \n",
    "                row[field[0]] = artist[field[1]]\n",
    "\n",
    "        for field in album_fields.items() : \n",
    "            row[field[0]] = item[\"album\"][field[1]]\n",
    "       \n",
    "        dicts_list.append(row)\n",
    "\n",
    "    return pd.DataFrame(dicts_list)\n",
    "    "
   ]
  },
  {
   "cell_type": "code",
   "execution_count": null,
   "metadata": {},
   "outputs": [],
   "source": [
    "genres = [  \"acoustic\",  \"afrobeat\",  \"alt-rock\",  \"alternative\",  \"ambient\",  \"anime\",  \"black-metal\",  \"bluegrass\",  \"blues\",  \"bossanova\",  \"brazil\",  \"breakbeat\",  \"british\",  \"cantopop\",  \"chicago-house\",  \"children\",  \"chill\",  \"classical\",  \"club\",  \"comedy\",  \"country\",  \"dance\",  \"dancehall\",  \"death-metal\",  \"deep-house\",  \"detroit-techno\",  \"disco\",  \"disney\",  \"drum-and-bass\",  \"dub\",  \"dubstep\",  \"edm\",  \"electro\",  \"electronic\",  \"emo\",  \"folk\",  \"forro\",  \"french\",  \"funk\",  \"garage\",  \"german\",  \"gospel\",  \"goth\",  \"grindcore\",  \"groove\",  \"grunge\",  \"guitar\",  \"happy\",  \"hard-rock\",  \"hardcore\",  \"hardstyle\",  \"heavy-metal\",  \"hip-hop\",  \"holidays\",  \"honky-tonk\",  \"house\",  \"idm\",  \"indian\",  \"indie\",  \"indie-pop\",  \"industrial\",  \"iranian\",  \"j-dance\",  \"j-idol\",  \"j-pop\",  \"j-rock\",  \"jazz\",  \"k-pop\",  \"kids\",  \"latin\",  \"latino\",  \"malay\",  \"mandopop\",  \"metal\",  \"metal-misc\",  \"metalcore\",  \"minimal-techno\",  \"movies\",  \"mpb\",  \"new-age\",  \"new-release\",  \"opera\",  \"pagode\",  \"party\",  \"philippines-opm\",  \"piano\",  \"pop\",  \"pop-film\",  \"post-dubstep\",  \"power-pop\",  \"progressive-house\",  \"psych-rock\",  \"punk\",  \"punk-rock\",  \"r-n-b\",  \"rainy-day\",  \"reggae\",  \"reggaeton\",  \"road-trip\",  \"rock\",  \"rock-n-roll\",  \"rockabilly\",  \"romance\",  \"sad\",  \"salsa\",  \"samba\",  \"sertanejo\",  \"show-tunes\",  \"singer-songwriter\",  \"ska\",  \"sleep\",  \"songwriter\",  \"soul\",  \"soundtracks\",  \"spanish\",  \"study\",  \"summer\",  \"swedish\",  \"synth-pop\",  \"tango\",  \"techno\",  \"trance\",  \"trip-hop\",  \"turkish\",  \"work-out\",  \"world-music\"]"
   ]
  },
  {
   "cell_type": "code",
   "execution_count": null,
   "metadata": {},
   "outputs": [],
   "source": [
    "def get_df_from_genres(genres) :\n",
    "\n",
    "    df = pd.DataFrame(columns=[\"track_id\",\"track_name\",\"track_genre\",\"track_preview_url\",\"track_popularity\",\"track_duration\",\"artist_id\",\"artist_name\",\"album_id\",\"album_name\",\"album_release_date\"])\n",
    "    for genre in genres :\n",
    "        df_genre = pd.DataFrame(columns=[\"track_id\",\"track_name\",\"track_genre\",\"track_preview_url\",\"track_popularity\",\"track_duration\",\"artist_id\",\"artist_name\",\"album_id\",\"album_name\",\"album_release_date\"])\n",
    "        for offset in range(0,1000,50) :\n",
    "\n",
    "            query = \"genre:{}\".format(genre)\n",
    "            df_offset = sp.search(q=query, type='track', limit=50, offset = offset)[\"tracks\"][\"items\"]\n",
    "            df_offset = tracks_items_to_df(df_offset)\n",
    "            try : \n",
    "                df_offset.insert(2,\"track_genre\",genre)\n",
    "            except : # if it's fail to get specific genre\n",
    "                print(genre) \n",
    "                break\n",
    "\n",
    "            df_genre = pd.concat([df_genre,df_offset])\n",
    "\n",
    "        df_genre.to_sql(\"df_{}\".format(genre.replace(\"-\",\"\")), connection_string, schema='spotify', if_exists='replace', index = False)\n",
    "        \n",
    "        df = pd.concat([df,df_genre])\n",
    "\n",
    "    return df"
   ]
  },
  {
   "cell_type": "code",
   "execution_count": null,
   "metadata": {},
   "outputs": [],
   "source": [
    "df = get_df_from_genres(genres)"
   ]
  },
  {
   "cell_type": "markdown",
   "metadata": {},
   "source": [
    "Failed to get genres :  Bossanova, disney, holidays,metal-misc, movies, new-release, philippines-opm, post-dubstep, rainy-day, road-trip, soundtracks, summer, work-out"
   ]
  },
  {
   "cell_type": "code",
   "execution_count": null,
   "metadata": {},
   "outputs": [],
   "source": [
    "df.to_sql(\"df_all_genres\", connection_string, schema='spotify', if_exists='replace', index = False)"
   ]
  },
  {
   "cell_type": "code",
   "execution_count": null,
   "metadata": {},
   "outputs": [],
   "source": [
    "df.shape"
   ]
  },
  {
   "cell_type": "markdown",
   "metadata": {},
   "source": [
    "### Merging tables to df_all_genres"
   ]
  },
  {
   "cell_type": "code",
   "execution_count": null,
   "metadata": {},
   "outputs": [],
   "source": [
    "tables_names = [\"df_{}\".format(genre.replace(\"-\",\"\")) for genre in genres]"
   ]
  },
  {
   "cell_type": "code",
   "execution_count": null,
   "metadata": {},
   "outputs": [],
   "source": [
    "df_all_genres = pd.read_sql(\"SELECT * FROM `spotify`.`{}`\".format(tables_names[0]), engine)\n",
    "\n",
    "for table in tables_names[1:] :\n",
    "    MYSQL_CONNECTION_STRING = \"mysql://root@localhost/ironhack\"\n",
    "    df_genre = pd.read_sql(\"SELECT * FROM spotify.{}\".format(table), engine)\n",
    "    df_all_genres = pd.concat([df_all_genres,df_genre])\n",
    "\n",
    "df_all_genres"
   ]
  },
  {
   "cell_type": "markdown",
   "metadata": {},
   "source": [
    "### Get more tracks with recommandations"
   ]
  },
  {
   "cell_type": "code",
   "execution_count": null,
   "metadata": {},
   "outputs": [],
   "source": [
    "def recommend(artist,track,genre):\n",
    "    rec_songs = {}\n",
    "    rec = sp.recommendations(seed_artists=artist,seed_tracks=track,seed_genres=genre, country='US', limit=10)\n",
    "    return rec[\"tracks\"]"
   ]
  },
  {
   "cell_type": "code",
   "execution_count": null,
   "metadata": {},
   "outputs": [],
   "source": [
    "def get_rec(df):\n",
    "    df_1 = pd.DataFrame()\n",
    "    for i in range(len(df)):\n",
    "        r = sp.recommendations(seed_artists=[str(df['artist_id'][i])],seed_tracks=[str(df['track_id'][i])],seed_genres=['pop'],  country='US',limit=100)\n",
    "        df_2 = tracks_items_to_df(r['tracks'])\n",
    "        df_1 = pd.concat([df_1,df_2]).reset_index(drop=True)\n",
    "    return df_1"
   ]
  },
  {
   "cell_type": "code",
   "execution_count": null,
   "metadata": {},
   "outputs": [],
   "source": [
    "rec = recommend(artist=['7dGJo4pcD2V6oG8kP0tJRR','4Cdvtu5XUmCKPwcnue11xS'],track=['1v7L65Lzy0j0vdpRjJewt1','3BzfkAB5qE3BNiVsdA35nu'],genre=['hip-hop'])\n",
    "tracks_items_to_df(rec)"
   ]
  },
  {
   "cell_type": "markdown",
   "metadata": {},
   "source": [
    "### Get audio feautures from tracks URI"
   ]
  },
  {
   "cell_type": "code",
   "execution_count": null,
   "metadata": {},
   "outputs": [],
   "source": [
    "# get audio features, et audio analysis\n",
    "sp.audio_analysis(\"spotify:track:2QjOHCTQ1Jl3zawyYOpxh6\") #Too much\n",
    "sp.audio_features(\"spotify:track:2QjOHCTQ1Jl3zawyYOpxh6\")[0].keys() #Ce qu'on va utiliser"
   ]
  },
  {
   "cell_type": "code",
   "execution_count": null,
   "metadata": {},
   "outputs": [],
   "source": [
    "# for style in musical_styles : \n",
    "#     query = \"genre:'{}'\".format(style)\n",
    "#     search_results = sp.search(q=query, type='track', limit=50)  # Limitez le nombre de résultats ici"
   ]
  }
 ],
 "metadata": {
  "kernelspec": {
   "display_name": "bootcamp",
   "language": "python",
   "name": "python3"
  },
  "language_info": {
   "codemirror_mode": {
    "name": "ipython",
    "version": 3
   },
   "file_extension": ".py",
   "mimetype": "text/x-python",
   "name": "python",
   "nbconvert_exporter": "python",
   "pygments_lexer": "ipython3",
   "version": "3.10.10"
  },
  "orig_nbformat": 4
 },
 "nbformat": 4,
 "nbformat_minor": 2
}
