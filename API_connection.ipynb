{
 "cells": [
  {
   "cell_type": "markdown",
   "metadata": {},
   "source": [
    "### Importing librairies"
   ]
  },
  {
   "cell_type": "code",
   "execution_count": null,
   "metadata": {},
   "outputs": [],
   "source": [
    "import spotipy\n",
    "from spotipy.oauth2 import SpotifyClientCredentials\n",
    "import getpass\n",
    "import pprint\n",
    "import pandas as pd"
   ]
  },
  {
   "cell_type": "markdown",
   "metadata": {},
   "source": [
    "### API connection"
   ]
  },
  {
   "cell_type": "code",
   "execution_count": null,
   "metadata": {},
   "outputs": [],
   "source": [
    "c_id = getpass.getpass()\n",
    "c_se = getpass.getpass()"
   ]
  },
  {
   "cell_type": "code",
   "execution_count": null,
   "metadata": {},
   "outputs": [],
   "source": [
    "sp = spotipy.Spotify(auth_manager=SpotifyClientCredentials(client_id=c_id, client_secret=c_se))"
   ]
  },
  {
   "cell_type": "markdown",
   "metadata": {},
   "source": [
    "### Get maximum of track uri"
   ]
  },
  {
   "cell_type": "markdown",
   "metadata": {},
   "source": [
    "Mise en forme des données : 2 tables : \n",
    "- une avec les infos du son (titre, allbum, artist name...)\n",
    "- une avec les données de l'analyse\n",
    "Les deux liés par l'URI"
   ]
  },
  {
   "cell_type": "code",
   "execution_count": 207,
   "metadata": {},
   "outputs": [
    {
     "data": {
      "text/html": [
       "<div>\n",
       "<style scoped>\n",
       "    .dataframe tbody tr th:only-of-type {\n",
       "        vertical-align: middle;\n",
       "    }\n",
       "\n",
       "    .dataframe tbody tr th {\n",
       "        vertical-align: top;\n",
       "    }\n",
       "\n",
       "    .dataframe thead th {\n",
       "        text-align: right;\n",
       "    }\n",
       "</style>\n",
       "<table border=\"1\" class=\"dataframe\">\n",
       "  <thead>\n",
       "    <tr style=\"text-align: right;\">\n",
       "      <th></th>\n",
       "      <th>track_name</th>\n",
       "      <th>track_genre</th>\n",
       "      <th>track_preview_url</th>\n",
       "      <th>track_popularity</th>\n",
       "      <th>track_duration</th>\n",
       "      <th>artists_id</th>\n",
       "      <th>artists_name</th>\n",
       "      <th>album_id</th>\n",
       "      <th>album_name</th>\n",
       "      <th>album_ release_date</th>\n",
       "    </tr>\n",
       "    <tr>\n",
       "      <th>track_id</th>\n",
       "      <th></th>\n",
       "      <th></th>\n",
       "      <th></th>\n",
       "      <th></th>\n",
       "      <th></th>\n",
       "      <th></th>\n",
       "      <th></th>\n",
       "      <th></th>\n",
       "      <th></th>\n",
       "      <th></th>\n",
       "    </tr>\n",
       "  </thead>\n",
       "  <tbody>\n",
       "  </tbody>\n",
       "</table>\n",
       "</div>"
      ],
      "text/plain": [
       "Empty DataFrame\n",
       "Columns: [track_name, track_genre, track_preview_url, track_popularity, track_duration, artists_id, artists_name, album_id, album_name, album_ release_date]\n",
       "Index: []"
      ]
     },
     "execution_count": 207,
     "metadata": {},
     "output_type": "execute_result"
    }
   ],
   "source": [
    "df = pd.DataFrame(columns=[\"track_id\",\"track_name\",\"track_genre\",\"track_preview_url\",\"track_popularity\",\"track_duration\",\"artists_id\",\"artists_name\",\"album_id\",\"album_name\",\"album_ release_date\"])\n",
    "df.set_index(\"track_id\")"
   ]
  },
  {
   "cell_type": "code",
   "execution_count": null,
   "metadata": {},
   "outputs": [],
   "source": [
    "genres = [  \"acoustic\",  \"afrobeat\",  \"alt-rock\",  \"alternative\",  \"ambient\",  \"anime\",  \"black-metal\",  \"bluegrass\",  \"blues\",  \"bossanova\",  \"brazil\",  \"breakbeat\",  \"british\",  \"cantopop\",  \"chicago-house\",  \"children\",  \"chill\",  \"classical\",  \"club\",  \"comedy\",  \"country\",  \"dance\",  \"dancehall\",  \"death-metal\",  \"deep-house\",  \"detroit-techno\",  \"disco\",  \"disney\",  \"drum-and-bass\",  \"dub\",  \"dubstep\",  \"edm\",  \"electro\",  \"electronic\",  \"emo\",  \"folk\",  \"forro\",  \"french\",  \"funk\",  \"garage\",  \"german\",  \"gospel\",  \"goth\",  \"grindcore\",  \"groove\",  \"grunge\",  \"guitar\",  \"happy\",  \"hard-rock\",  \"hardcore\",  \"hardstyle\",  \"heavy-metal\",  \"hip-hop\",  \"holidays\",  \"honky-tonk\",  \"house\",  \"idm\",  \"indian\",  \"indie\",  \"indie-pop\",  \"industrial\",  \"iranian\",  \"j-dance\",  \"j-idol\",  \"j-pop\",  \"j-rock\",  \"jazz\",  \"k-pop\",  \"kids\",  \"latin\",  \"latino\",  \"malay\",  \"mandopop\",  \"metal\",  \"metal-misc\",  \"metalcore\",  \"minimal-techno\",  \"movies\",  \"mpb\",  \"new-age\",  \"new-release\",  \"opera\",  \"pagode\",  \"party\",  \"philippines-opm\",  \"piano\",  \"pop\",  \"pop-film\",  \"post-dubstep\",  \"power-pop\",  \"progressive-house\",  \"psych-rock\",  \"punk\",  \"punk-rock\",  \"r-n-b\",  \"rainy-day\",  \"reggae\",  \"reggaeton\",  \"road-trip\",  \"rock\",  \"rock-n-roll\",  \"rockabilly\",  \"romance\",  \"sad\",  \"salsa\",  \"samba\",  \"sertanejo\",  \"show-tunes\",  \"singer-songwriter\",  \"ska\",  \"sleep\",  \"songwriter\",  \"soul\",  \"soundtracks\",  \"spanish\",  \"study\",  \"summer\",  \"swedish\",  \"synth-pop\",  \"tango\",  \"techno\",  \"trance\",  \"trip-hop\",  \"turkish\",  \"work-out\",  \"world-music\"]"
   ]
  },
  {
   "cell_type": "code",
   "execution_count": 172,
   "metadata": {},
   "outputs": [],
   "source": [
    "query = \"genre:'honky-tonk'\"\n",
    "search_results = sp.search(q=query, type='track', limit=50)  # Limitez le nombre de résultats ici"
   ]
  },
  {
   "cell_type": "code",
   "execution_count": 238,
   "metadata": {},
   "outputs": [],
   "source": [
    "def tracks_items_to_df(tracks_items) :\n",
    "    result = pd.DataFrame(columns=[\"track_id\",\"track_name\",\"track_preview_url\",\"track_popularity\",\"track_duration\",\"artists_id\",\"artists_name\",\"album_id\",\"album_name\",\"album_ release_date\"])\n",
    "\n",
    "    traks_fields = {\"track_id\":\"id\",\"track_name\":\"name\",\"track_preview_url\":\"preview_url\",\"track_duration\":\"duration_ms\",\"track_explicit\":\"explicit\",\"track_popularity\":\"popularity\"}\n",
    "    artist_fields = {\"artist_id\":\"id\",\"artist_name\":\"name\"}\n",
    "    album_fields = {\"album_id\":\"id\",\"album_name\":\"name\",\"album_release_date\":\"release_date\"}\n",
    "\n",
    "    for item in tracks_items :\n",
    "        df_row = {} \n",
    "        for field in traks_fields.items() : \n",
    "            df_row[field[0]] = item[field[1]]\n",
    "\n",
    "        for artist in item[\"artists\"]:\n",
    "            for field in artist_fields.items() : \n",
    "                df_row[field[0]] = artist[field[1]]\n",
    "                # print(artist[field[1]])\n",
    "\n",
    "        for field in album_fields.items() : \n",
    "            df_row[field[0]] = item[\"album\"][field[1]]\n",
    "        print(df_row)"
   ]
  },
  {
   "cell_type": "code",
   "execution_count": 240,
   "metadata": {},
   "outputs": [
    {
     "name": "stdout",
     "output_type": "stream",
     "text": [
      "{'track_id': '1q0wCfrE9eGFMzS2g8aVnx', 'track_name': 'He Stopped Loving Her Today', 'track_preview_url': 'https://p.scdn.co/mp3-preview/c767cbddc5c7168bae84ceba0be28fcfebccaaf5?cid=923e4cc42d174b4db2c9b456dcda876b', 'track_duration': 195760, 'track_explicit': False, 'track_popularity': 60, 'artist_id': '2OpqcUtj10HHvGG6h9VYC5', 'artist_name': 'George Jones', 'album_id': '2KBTp83WoEO5VZWf1KJMnF', 'album_name': 'I Am What I Am (Expanded Edition)', 'album_release_date': '1980'}\n",
      "{'track_id': '2LyRC7gfWFJd6JI5i8fTJe', 'track_name': 'The Race Is On', 'track_preview_url': None, 'track_duration': 127400, 'track_explicit': False, 'track_popularity': 60, 'artist_id': '2OpqcUtj10HHvGG6h9VYC5', 'artist_name': 'George Jones', 'album_id': '3yktxl8Ut7EDn4KBXMPYhZ', 'album_name': 'I Get Lonely In A Hurry', 'album_release_date': '1964-11-01'}\n",
      "{'track_id': '0RbaD2rw0HmpfflXFH9DKu', 'track_name': 'The One I Loved Back Then (The Corvette Song)', 'track_preview_url': 'https://p.scdn.co/mp3-preview/11c8a26fed61e2c303bd9a3e75f3b31fac49e41f?cid=923e4cc42d174b4db2c9b456dcda876b', 'track_duration': 150520, 'track_explicit': False, 'track_popularity': 59, 'artist_id': '2OpqcUtj10HHvGG6h9VYC5', 'artist_name': 'George Jones', 'album_id': '0SRwLRes0ubEsYsjM9F5uL', 'album_name': \"Who's Gonna Fill Their Shoes\", 'album_release_date': '1985-08-01'}\n",
      "{'track_id': '5gbm0aNo7eXNuOEkQi5m9B', 'track_name': 'Jambalaya (On The Bayou)', 'track_preview_url': None, 'track_duration': 174866, 'track_explicit': False, 'track_popularity': 58, 'artist_id': '6LF21o9Yfj4a16Rw38Vxml', 'artist_name': 'Drifting Cowboys', 'album_id': '18qEQEBcLbBiDyAW3d73mU', 'album_name': 'Honky Tonkin (Expanded Undubbed Edition)', 'album_release_date': '1954-09-01'}\n",
      "{'track_id': '6qMgx8ys4MNNxypaIvbG0i', 'track_name': 'He Stopped Loving Her Today', 'track_preview_url': 'https://p.scdn.co/mp3-preview/26d04b9e0c4031a128bc48ff59c953bc25f67e58?cid=923e4cc42d174b4db2c9b456dcda876b', 'track_duration': 195333, 'track_explicit': False, 'track_popularity': 56, 'artist_id': '2OpqcUtj10HHvGG6h9VYC5', 'artist_name': 'George Jones', 'album_id': '4LN572kqxZfNyNgt2rGGKR', 'album_name': 'Super Hits', 'album_release_date': '1987-01-01'}\n",
      "{'track_id': '4BcrWCZPXuoGU0SnAsJW1s', 'track_name': 'He Stopped Loving Her Today', 'track_preview_url': 'https://p.scdn.co/mp3-preview/0865e96d11dc5b3aaf559100de5590af51320ab1?cid=923e4cc42d174b4db2c9b456dcda876b', 'track_duration': 197400, 'track_explicit': False, 'track_popularity': 56, 'artist_id': '2OpqcUtj10HHvGG6h9VYC5', 'artist_name': 'George Jones', 'album_id': '7poo7LkjfXMcKLK8lAkD1p', 'album_name': 'George Jones - 16 Biggest Hits', 'album_release_date': '1998-07-14'}\n",
      "{'track_id': '0deAIqyKFFw55JDMGWTcdA', 'track_name': \"Hey, Good Lookin'\", 'track_preview_url': None, 'track_duration': 176893, 'track_explicit': False, 'track_popularity': 58, 'artist_id': '6LF21o9Yfj4a16Rw38Vxml', 'artist_name': 'Drifting Cowboys', 'album_id': '4Cdvtu5XUmCKPwcnue11xS', 'album_name': 'Memorial Album (Expanded Edition)', 'album_release_date': '1953-03-01'}\n",
      "{'track_id': '7o68KX6XyCS9lydBTH6TCP', 'track_name': 'White Lightning - Single Version', 'track_preview_url': None, 'track_duration': 165453, 'track_explicit': False, 'track_popularity': 55, 'artist_id': '2OpqcUtj10HHvGG6h9VYC5', 'artist_name': 'George Jones', 'album_id': '4otV4qBvLzDoCr9TajdsL0', 'album_name': 'Best Of', 'album_release_date': '2013-07-30'}\n",
      "{'track_id': '7ottDUMz3VomUN2Ln9FWdI', 'track_name': 'Choices', 'track_preview_url': 'https://p.scdn.co/mp3-preview/1b71cadd7e62f51cdfbf7fd0c26bc22521a5a31e?cid=923e4cc42d174b4db2c9b456dcda876b', 'track_duration': 206213, 'track_explicit': False, 'track_popularity': 54, 'artist_id': '2OpqcUtj10HHvGG6h9VYC5', 'artist_name': 'George Jones', 'album_id': '1OOYMqvCCRZDdRFezpg8l3', 'album_name': 'Cold Hard Truth', 'album_release_date': '1999-01-01'}\n",
      "{'track_id': '4wDpjRQOvOHXE9AtNWpdVQ', 'track_name': \"Who's Gonna Fill Their Shoes\", 'track_preview_url': 'https://p.scdn.co/mp3-preview/fe82c19c5a37102774230178a146465d8e978980?cid=923e4cc42d174b4db2c9b456dcda876b', 'track_duration': 195133, 'track_explicit': False, 'track_popularity': 54, 'artist_id': '2OpqcUtj10HHvGG6h9VYC5', 'artist_name': 'George Jones', 'album_id': '4LN572kqxZfNyNgt2rGGKR', 'album_name': 'Super Hits', 'album_release_date': '1987-01-01'}\n",
      "{'track_id': '1Eu8T7TxbcrlZ1oE8Eccxd', 'track_name': \"If Drinkin' Don't Kill Me (Her Memory Will)\", 'track_preview_url': 'https://p.scdn.co/mp3-preview/5d890d774d15529ee5e4121fc0d73becd7fc65c3?cid=923e4cc42d174b4db2c9b456dcda876b', 'track_duration': 189933, 'track_explicit': False, 'track_popularity': 54, 'artist_id': '2OpqcUtj10HHvGG6h9VYC5', 'artist_name': 'George Jones', 'album_id': '2KBTp83WoEO5VZWf1KJMnF', 'album_name': 'I Am What I Am (Expanded Edition)', 'album_release_date': '1980'}\n",
      "{'track_id': '0hveAq1VSNWo9MQYGMHvFF', 'track_name': \"I'm So Lonesome I Could Cry\", 'track_preview_url': None, 'track_duration': 168773, 'track_explicit': False, 'track_popularity': 55, 'artist_id': '1FClsNYBUoNFtGgzeG74dW', 'artist_name': 'Hank Williams', 'album_id': '3cusZESjkIDnDXyQwbpSsT', 'album_name': \"Moanin' The Blues (Expanded Edition)\", 'album_release_date': '1952-09-12'}\n",
      "{'track_id': '0V7vxjZyhXRWhyyRogcVk1', 'track_name': 'Tennessee Whiskey', 'track_preview_url': 'https://p.scdn.co/mp3-preview/eeb6f1379043c954168b405f8e2a1a0e3ae2a0bf?cid=923e4cc42d174b4db2c9b456dcda876b', 'track_duration': 171093, 'track_explicit': False, 'track_popularity': 53, 'artist_id': '2OpqcUtj10HHvGG6h9VYC5', 'artist_name': 'George Jones', 'album_id': '6GnoQ71LJiZlbkefZ5zVpq', 'album_name': 'Shine On', 'album_release_date': '1983-03-01'}\n",
      "{'track_id': '4dim8F8t01qimHOmr6S3Gd', 'track_name': 'Hello Walls', 'track_preview_url': None, 'track_duration': 146840, 'track_explicit': False, 'track_popularity': 55, 'artist_id': '6uvq6FeVsmhOWfJHxVNeBL', 'artist_name': 'Faron Young', 'album_id': '26KWAh3Wvw9LjeyxjTEZqa', 'album_name': 'The Complete Capitol Hits Of Faron Young', 'album_release_date': '2000-01-01'}\n",
      "{'track_id': '42mWEvGlwKGhVQs8XkvQKP', 'track_name': 'She Thinks I Still Care', 'track_preview_url': None, 'track_duration': 154800, 'track_explicit': False, 'track_popularity': 53, 'artist_id': '2OpqcUtj10HHvGG6h9VYC5', 'artist_name': 'George Jones', 'album_id': '73xcCIpGvz7aqMjuFfPqsR', 'album_name': 'The New Favorites Of George Jones', 'album_release_date': '1962-01-01'}\n",
      "{'track_id': '5lXX4SAV6HBaVnZ6sUQPNE', 'track_name': 'The Grand Tour', 'track_preview_url': 'https://p.scdn.co/mp3-preview/67fe6fe87c4dd87d4d0f08f7c52b4d6e5a100977?cid=923e4cc42d174b4db2c9b456dcda876b', 'track_duration': 187373, 'track_explicit': False, 'track_popularity': 52, 'artist_id': '2OpqcUtj10HHvGG6h9VYC5', 'artist_name': 'George Jones', 'album_id': '7poo7LkjfXMcKLK8lAkD1p', 'album_name': 'George Jones - 16 Biggest Hits', 'album_release_date': '1998-07-14'}\n",
      "{'track_id': '0WwmFdGXe7Yky4T2J1oqLk', 'track_name': \"Your Cheatin' Heart\", 'track_preview_url': None, 'track_duration': 164373, 'track_explicit': False, 'track_popularity': 52, 'artist_id': '6LF21o9Yfj4a16Rw38Vxml', 'artist_name': 'Drifting Cowboys', 'album_id': '4Cdvtu5XUmCKPwcnue11xS', 'album_name': 'Memorial Album (Expanded Edition)', 'album_release_date': '1953-03-01'}\n",
      "{'track_id': '04bsExZXrwoRXYKKDWlTIU', 'track_name': 'I Saw The Light', 'track_preview_url': None, 'track_duration': 166000, 'track_explicit': False, 'track_popularity': 51, 'artist_id': '6LF21o9Yfj4a16Rw38Vxml', 'artist_name': 'Drifting Cowboys', 'album_id': '1WwzK51uHvKUKyhdMJqhVt', 'album_name': 'Sings', 'album_release_date': '1951-11-09'}\n",
      "{'track_id': '2uUhWqoiyp1wKJC81vKaJ4', 'track_name': 'I Gotta Get Drunk (with Willie Nelson)', 'track_preview_url': 'https://p.scdn.co/mp3-preview/0169336dff86a5a2b3ad9e85e5d99463933cb4a7?cid=923e4cc42d174b4db2c9b456dcda876b', 'track_duration': 130733, 'track_explicit': False, 'track_popularity': 51, 'artist_id': '5W5bDNCqJ1jbCgTxDD0Cb3', 'artist_name': 'Willie Nelson', 'album_id': '3am7sXkWVQ9mpldg5KtrUm', 'album_name': 'My Very Special Guests', 'album_release_date': '1979-01-01'}\n",
      "{'track_id': '2Wln4pSEffaKh3C5mMtg1d', 'track_name': \"Who's Gonna Fill Their Shoes\", 'track_preview_url': 'https://p.scdn.co/mp3-preview/65060a8903097fc17758a768f18c6f8547ade613?cid=923e4cc42d174b4db2c9b456dcda876b', 'track_duration': 196973, 'track_explicit': False, 'track_popularity': 49, 'artist_id': '2OpqcUtj10HHvGG6h9VYC5', 'artist_name': 'George Jones', 'album_id': '0SRwLRes0ubEsYsjM9F5uL', 'album_name': \"Who's Gonna Fill Their Shoes\", 'album_release_date': '1985-08-01'}\n",
      "{'track_id': '7GgtarFx3ognXFQooZ3PyW', 'track_name': 'Thanks A Lot', 'track_preview_url': None, 'track_duration': 154333, 'track_explicit': False, 'track_popularity': 51, 'artist_id': '7gS1Yv0RynyzKX5ICtKIhS', 'artist_name': 'Ernest Tubb', 'album_id': '1NwdehvDYJrG3gmyPkZ9fs', 'album_name': 'Retrospective (Volume 2)', 'album_release_date': '1987-02-19'}\n",
      "{'track_id': '0F76EzCOmno4KJviO7iGNq', 'track_name': \"Hey, Good Lookin'\", 'track_preview_url': None, 'track_duration': 174293, 'track_explicit': False, 'track_popularity': 52, 'artist_id': '6LF21o9Yfj4a16Rw38Vxml', 'artist_name': 'Drifting Cowboys', 'album_id': '3A125M77Q1pkNik2HvB1MN', 'album_name': 'The Complete Hank Williams', 'album_release_date': '1998-09-22'}\n",
      "{'track_id': '2KJOfVTxWkbtRMGByeEQ7V', 'track_name': 'Jambalaya (On The Bayou)', 'track_preview_url': None, 'track_duration': 172133, 'track_explicit': False, 'track_popularity': 50, 'artist_id': '6LF21o9Yfj4a16Rw38Vxml', 'artist_name': 'Drifting Cowboys', 'album_id': '3A125M77Q1pkNik2HvB1MN', 'album_name': 'The Complete Hank Williams', 'album_release_date': '1998-09-22'}\n",
      "{'track_id': '4bLFRNxLjFltxVPjvUbgJ7', 'track_name': 'Move It On Over', 'track_preview_url': None, 'track_duration': 166160, 'track_explicit': False, 'track_popularity': 49, 'artist_id': '6LF21o9Yfj4a16Rw38Vxml', 'artist_name': 'Drifting Cowboys', 'album_id': '4Cdvtu5XUmCKPwcnue11xS', 'album_name': 'Memorial Album (Expanded Edition)', 'album_release_date': '1953-03-01'}\n",
      "{'track_id': '4tj7IsJrn4MvesuhoY0JBy', 'track_name': \"I'm So Lonesome I Could Cry\", 'track_preview_url': None, 'track_duration': 169066, 'track_explicit': False, 'track_popularity': 48, 'artist_id': '1FClsNYBUoNFtGgzeG74dW', 'artist_name': 'Hank Williams', 'album_id': '1PEa3YWXafstgaF2bTpMg2', 'album_name': 'The Legend Lives Anew: Hank Williams, Sr. With Strings', 'album_release_date': '1966-12-04'}\n",
      "{'track_id': '1YZ9mU9r6RXjTRee6G8GLU', 'track_name': 'The Grand Tour - Single Version', 'track_preview_url': 'https://p.scdn.co/mp3-preview/419b0e616afb336149683e17c4508add141e6c9f?cid=923e4cc42d174b4db2c9b456dcda876b', 'track_duration': 186786, 'track_explicit': False, 'track_popularity': 48, 'artist_id': '2OpqcUtj10HHvGG6h9VYC5', 'artist_name': 'George Jones', 'album_id': '4AB1Ni41i1YgE1snxb0b6r', 'album_name': 'The Grand Tour', 'album_release_date': '1974-08-07'}\n",
      "{'track_id': '61GEP8lryEfcuEgBMbRmNi', 'track_name': 'Alone And Forsaken', 'track_preview_url': None, 'track_duration': 121733, 'track_explicit': False, 'track_popularity': 53, 'artist_id': '6LF21o9Yfj4a16Rw38Vxml', 'artist_name': 'Drifting Cowboys', 'album_id': '3cusZESjkIDnDXyQwbpSsT', 'album_name': \"Moanin' The Blues (Expanded Edition)\", 'album_release_date': '1952-09-12'}\n",
      "{'track_id': '2pVQtg1gfTftOLugm5ENov', 'track_name': 'I Washed My Hands in Muddy Water', 'track_preview_url': 'https://p.scdn.co/mp3-preview/dd6b9701b8c88983af0864222ad931f12cc455bd?cid=923e4cc42d174b4db2c9b456dcda876b', 'track_duration': 162840, 'track_explicit': False, 'track_popularity': 49, 'artist_id': '0NqxUSg57tX1o1WG7VU1Vp', 'artist_name': 'Stonewall Jackson', 'album_id': '4owqIN3fEihgh8u5e1PLBh', 'album_name': 'Trouble & Me', 'album_release_date': '1964'}\n",
      "{'track_id': '6KB3UH8BVVQqbe24eBfJZn', 'track_name': 'Last Date - Instrumental', 'track_preview_url': 'https://p.scdn.co/mp3-preview/b110b6da3e7a20b5cb5e377574b722e478709475?cid=923e4cc42d174b4db2c9b456dcda876b', 'track_duration': 146933, 'track_explicit': False, 'track_popularity': 51, 'artist_id': '6DQ6mdEhxCgHPqfX1niZZK', 'artist_name': 'Floyd Cramer', 'album_id': '0LYtNv326TvRBAKG6dQbM4', 'album_name': 'Last Date', 'album_release_date': '1960'}\n",
      "{'track_id': '0VxX3RBKO46Ky6XgvN0bME', 'track_name': 'There Stands The Glass', 'track_preview_url': None, 'track_duration': 146666, 'track_explicit': False, 'track_popularity': 47, 'artist_id': '1ARZrF9nU4zgdDHuBIfqMq', 'artist_name': 'Webb Pierce', 'album_id': '6LlsOhQeU1WQQbGaaFANSy', 'album_name': '20th Century Masters: The Millennium Collection: Best Of Webb Pierce', 'album_release_date': '2001-01-01'}\n",
      "{'track_id': '5X3JLiwRDglhXRc7uDbB2V', 'track_name': 'Hurt Somebody', 'track_preview_url': 'https://p.scdn.co/mp3-preview/ff1eb169d715b064156a806285459554d4ae107a?cid=923e4cc42d174b4db2c9b456dcda876b', 'track_duration': 179293, 'track_explicit': False, 'track_popularity': 46, 'artist_id': '1i8JjHb2xPYOQrnKGMwpOf', 'artist_name': 'The Dirt Drifters', 'album_id': '32tRzmHVO5OxNv7IK36x24', 'album_name': 'This Is My Blood', 'album_release_date': '2011-07-15'}\n",
      "{'track_id': '3t4MQ9QR5ah16KKkabGbpN', 'track_name': 'The King Is Gone (So Are You)', 'track_preview_url': 'https://p.scdn.co/mp3-preview/9040e69aa707a1ba00e7838f3cbcde01a5de543c?cid=923e4cc42d174b4db2c9b456dcda876b', 'track_duration': 200066, 'track_explicit': False, 'track_popularity': 47, 'artist_id': '2OpqcUtj10HHvGG6h9VYC5', 'artist_name': 'George Jones', 'album_id': '1jInOxlIH7U7bLzo9O6uuK', 'album_name': 'One Woman Man', 'album_release_date': '1989-02-28'}\n",
      "{'track_id': '4yXvztnOOlSspO4W3MIsdd', 'track_name': 'Same Ole Me', 'track_preview_url': 'https://p.scdn.co/mp3-preview/d5685f6b3d83fc3e761011ed64218e5961e265f0?cid=923e4cc42d174b4db2c9b456dcda876b', 'track_duration': 170733, 'track_explicit': False, 'track_popularity': 47, 'artist_id': '2OpqcUtj10HHvGG6h9VYC5', 'artist_name': 'George Jones', 'album_id': '37SDFDUGI4DBZt1YssNSNE', 'album_name': 'Still The Same Ole Me', 'album_release_date': '1981-11-01'}\n",
      "{'track_id': '5O3EyD5kv3n3lGFIWNBSWO', 'track_name': 'Walk Through This World With Me', 'track_preview_url': 'https://p.scdn.co/mp3-preview/907093d4593f88d45e22614ac6487bba0960ca8a?cid=923e4cc42d174b4db2c9b456dcda876b', 'track_duration': 137960, 'track_explicit': False, 'track_popularity': 48, 'artist_id': '2OpqcUtj10HHvGG6h9VYC5', 'artist_name': 'George Jones', 'album_id': '0fwh1xIpc0EuqWTIZGpci8', 'album_name': 'Walk Through This World With Me', 'album_release_date': '2005'}\n",
      "{'track_id': '1lnQ6kkVaHg0Itdx88REdJ', 'track_name': 'Cold, Cold Heart', 'track_preview_url': None, 'track_duration': 165800, 'track_explicit': False, 'track_popularity': 48, 'artist_id': '6LF21o9Yfj4a16Rw38Vxml', 'artist_name': 'Drifting Cowboys', 'album_id': '4Cdvtu5XUmCKPwcnue11xS', 'album_name': 'Memorial Album (Expanded Edition)', 'album_release_date': '1953-03-01'}\n",
      "{'track_id': '0jo2E9nTTflJzAadadRaek', 'track_name': 'Lost Highway', 'track_preview_url': None, 'track_duration': 163933, 'track_explicit': False, 'track_popularity': 47, 'artist_id': '6LF21o9Yfj4a16Rw38Vxml', 'artist_name': 'Drifting Cowboys', 'album_id': '1WwzK51uHvKUKyhdMJqhVt', 'album_name': 'Sings', 'album_release_date': '1951-11-09'}\n",
      "{'track_id': '6W7JvNYum6o2NxIIP5rZ2s', 'track_name': 'Long Black Veil', 'track_preview_url': 'https://p.scdn.co/mp3-preview/eb157d4cfb08a93115ec9717d6ce2db7a11bdcc2?cid=923e4cc42d174b4db2c9b456dcda876b', 'track_duration': 182360, 'track_explicit': False, 'track_popularity': 46, 'artist_id': '05pAwLhsutiuj6gerEwGvU', 'artist_name': 'Lefty Frizzell', 'album_id': '5DHSzaRCg638OK8gl6uyCL', 'album_name': 'American Originals', 'album_release_date': '1980'}\n",
      "{'track_id': '2sRQWq9NELigoO4xRB9s3r', 'track_name': 'Waltz Across Texas', 'track_preview_url': None, 'track_duration': 158866, 'track_explicit': False, 'track_popularity': 47, 'artist_id': '7gS1Yv0RynyzKX5ICtKIhS', 'artist_name': 'Ernest Tubb', 'album_id': '1NwdehvDYJrG3gmyPkZ9fs', 'album_name': 'Retrospective (Volume 2)', 'album_release_date': '1987-02-19'}\n",
      "{'track_id': '4cIGNFaKpoVuJfVvixS0mU', 'track_name': 'For the Good Times', 'track_preview_url': 'https://p.scdn.co/mp3-preview/077ae0a86487b2b25db5d8c5616186870263c6cd?cid=923e4cc42d174b4db2c9b456dcda876b', 'track_duration': 227786, 'track_explicit': False, 'track_popularity': 49, 'artist_id': '5sAg1HZePcFfhrs0G8A8OP', 'artist_name': 'Ray Price', 'album_id': '5ficfpIRTeXi6BRePNGQCQ', 'album_name': 'The Essential Ray Price', 'album_release_date': '2007-05-29'}\n",
      "{'track_id': '20aorkzugOSwPcXGZf9eCv', 'track_name': \"Honky Tonkin'\", 'track_preview_url': None, 'track_duration': 166200, 'track_explicit': False, 'track_popularity': 46, 'artist_id': '6LF21o9Yfj4a16Rw38Vxml', 'artist_name': 'Drifting Cowboys', 'album_id': '18qEQEBcLbBiDyAW3d73mU', 'album_name': 'Honky Tonkin (Expanded Undubbed Edition)', 'album_release_date': '1954-09-01'}\n",
      "{'track_id': '6DSKUBV4xCReLPMZ7kROzX', 'track_name': \"Still Doin' Time\", 'track_preview_url': 'https://p.scdn.co/mp3-preview/a8177a48e9893430a2151474428b84549b08a8ee?cid=923e4cc42d174b4db2c9b456dcda876b', 'track_duration': 168093, 'track_explicit': False, 'track_popularity': 44, 'artist_id': '2OpqcUtj10HHvGG6h9VYC5', 'artist_name': 'George Jones', 'album_id': '37SDFDUGI4DBZt1YssNSNE', 'album_name': 'Still The Same Ole Me', 'album_release_date': '1981-11-01'}\n",
      "{'track_id': '6v3ozeTaUGr5Wwmya1Xhg0', 'track_name': 'Her Name Is...', 'track_preview_url': 'https://p.scdn.co/mp3-preview/ebd4a10768acc2d58c4e5b6aa147dac31a15a9e6?cid=923e4cc42d174b4db2c9b456dcda876b', 'track_duration': 138800, 'track_explicit': False, 'track_popularity': 45, 'artist_id': '2OpqcUtj10HHvGG6h9VYC5', 'artist_name': 'George Jones', 'album_id': '03CmBZWedcwyCLKmypX5Lb', 'album_name': 'Anniversary (Ten Years Of Hits)', 'album_release_date': '1982-10-30'}\n",
      "{'track_id': '637H6WFOu2z7neejRnY2kf', 'track_name': \"Drivin' Nails In My Coffin - Single Version\", 'track_preview_url': None, 'track_duration': 173093, 'track_explicit': False, 'track_popularity': 46, 'artist_id': '7gS1Yv0RynyzKX5ICtKIhS', 'artist_name': 'Ernest Tubb', 'album_id': '4IvUOgEsxPjkOgiF1Xpg1T', 'album_name': 'The Definitive Collection', 'album_release_date': '2006-06-06'}\n",
      "{'track_id': '3BzfkAB5qE3BNiVsdA35nu', 'track_name': 'Honky Tonk Blues', 'track_preview_url': None, 'track_duration': 133306, 'track_explicit': False, 'track_popularity': 46, 'artist_id': '6LF21o9Yfj4a16Rw38Vxml', 'artist_name': 'Drifting Cowboys', 'album_id': '18qEQEBcLbBiDyAW3d73mU', 'album_name': 'Honky Tonkin (Expanded Undubbed Edition)', 'album_release_date': '1954-09-01'}\n",
      "{'track_id': '13Oi7vfd9mrujcEmGAYAPe', 'track_name': \"Your Cheatin' Heart\", 'track_preview_url': None, 'track_duration': 161640, 'track_explicit': False, 'track_popularity': 45, 'artist_id': '6LF21o9Yfj4a16Rw38Vxml', 'artist_name': 'Drifting Cowboys', 'album_id': '3A125M77Q1pkNik2HvB1MN', 'album_name': 'The Complete Hank Williams', 'album_release_date': '1998-09-22'}\n",
      "{'track_id': '361wxJRa6M2sH1Epy2MAC1', 'track_name': 'Heartaches By The Number', 'track_preview_url': 'https://p.scdn.co/mp3-preview/4d7f2aa0588acbf855377ed8a9b493d2e37dc550?cid=923e4cc42d174b4db2c9b456dcda876b', 'track_duration': 176626, 'track_explicit': False, 'track_popularity': 45, 'artist_id': '5sAg1HZePcFfhrs0G8A8OP', 'artist_name': 'Ray Price', 'album_id': '6KJrpAaoqXM9FYWJEM76LV', 'album_name': 'Super Hits', 'album_release_date': '1954'}\n",
      "{'track_id': '5HywRUoXNfWpiR1dAwoZip', 'track_name': 'Golden Ring', 'track_preview_url': 'https://p.scdn.co/mp3-preview/07b83ffaad8d75a5701f24269a130937aa13c335?cid=923e4cc42d174b4db2c9b456dcda876b', 'track_duration': 182466, 'track_explicit': False, 'track_popularity': 44, 'artist_id': '1LFKKuzn302wp15dYH28id', 'artist_name': 'Tammy Wynette', 'album_id': '5h63tAdWuGRqDkCrdvm4Gs', 'album_name': 'George Jones and Tammy Wynette - 16 Biggest Hits', 'album_release_date': '1999-08-10'}\n",
      "{'track_id': '0sm3ZtBLGY0Wbz7MOwwmGK', 'track_name': 'Tennessee Whiskey', 'track_preview_url': 'https://p.scdn.co/mp3-preview/bbc9587848f364c55ffc705c1bcd28b404e17995?cid=923e4cc42d174b4db2c9b456dcda876b', 'track_duration': 171773, 'track_explicit': False, 'track_popularity': 43, 'artist_id': '2OpqcUtj10HHvGG6h9VYC5', 'artist_name': 'George Jones', 'album_id': '08VP8ObqusuJRTqEn392xI', 'album_name': 'By Request', 'album_release_date': '1984-01-01'}\n",
      "{'track_id': '1bqDQwBFPvykl6OiIHTVis', 'track_name': \"Settin' The Woods On Fire\", 'track_preview_url': None, 'track_duration': 158266, 'track_explicit': False, 'track_popularity': 46, 'artist_id': '6LF21o9Yfj4a16Rw38Vxml', 'artist_name': 'Drifting Cowboys', 'album_id': '4Cdvtu5XUmCKPwcnue11xS', 'album_name': 'Memorial Album (Expanded Edition)', 'album_release_date': '1953-03-01'}\n",
      "{'track_id': '321EGZZRFk8kj4pNZraesQ', 'track_name': 'Take Me', 'track_preview_url': 'https://p.scdn.co/mp3-preview/c617af2963e00d88850153f48d7630f5b16d774d?cid=923e4cc42d174b4db2c9b456dcda876b', 'track_duration': 140733, 'track_explicit': False, 'track_popularity': 45, 'artist_id': '1LFKKuzn302wp15dYH28id', 'artist_name': 'Tammy Wynette', 'album_id': '2Pf9lml86yy0wuEDUSBIUF', 'album_name': 'The Essential George Jones', 'album_release_date': '2006'}\n"
     ]
    }
   ],
   "source": [
    "tracks_items_to_df(search_results[\"tracks\"][\"items\"])"
   ]
  },
  {
   "cell_type": "code",
   "execution_count": null,
   "metadata": {},
   "outputs": [],
   "source": [
    "def get_tracks_id_from_genres(genres) :\n",
    "    # Input : list of strings of musiques genres\n",
    "    # Ouput : dictionnary result = {\"genre\": [playlist_id_1,playlist_id_2]}\n",
    "    result = {}\n",
    "    for genre in genres :\n",
    "        # Il va falloir parcourir différentes pages\n",
    "        genre_ids = []\n",
    "        print(genre)\n",
    "        playlists = sp.track(category_id= \"genre:{}\".format(genre))[\"playlists\"][\"items\"]\n",
    "        for traks in search_results[\"tracks\"][\"items\"] : \n",
    "            \n",
    "        \n",
    "\n",
    "    return result"
   ]
  },
  {
   "cell_type": "code",
   "execution_count": null,
   "metadata": {},
   "outputs": [],
   "source": [
    "get_playlist_id(genres)"
   ]
  },
  {
   "cell_type": "code",
   "execution_count": null,
   "metadata": {},
   "outputs": [],
   "source": [
    "def get_tracks_id_from_playlist_id() : #"
   ]
  },
  {
   "cell_type": "code",
   "execution_count": null,
   "metadata": {},
   "outputs": [],
   "source": [
    "search_results = sp.category_playlists(category_id= 'rock') # alternative"
   ]
  },
  {
   "cell_type": "code",
   "execution_count": null,
   "metadata": {},
   "outputs": [],
   "source": [
    "search_results[\"playlists\"][\"items\"][1][\"id\"]"
   ]
  },
  {
   "cell_type": "code",
   "execution_count": null,
   "metadata": {},
   "outputs": [],
   "source": [
    "search_results[\"playlists\"][\"items\"][0].keys()"
   ]
  },
  {
   "cell_type": "code",
   "execution_count": null,
   "metadata": {},
   "outputs": [],
   "source": [
    "search_results[\"tracks\"].keys() #Nested dictionnary\n",
    "pprint.pprint(search_results[\"tracks\"][\"items\"][0][\"popularity\"]) # On est interessé par : 'album'(-> 'name', 'artist'->'name'), 'artists','duration_ms','id','uri','preview_url','explicit','name','popularity'"
   ]
  },
  {
   "cell_type": "code",
   "execution_count": null,
   "metadata": {},
   "outputs": [],
   "source": []
  },
  {
   "cell_type": "markdown",
   "metadata": {},
   "source": [
    "### Get audio feautures from tracks URI"
   ]
  },
  {
   "cell_type": "code",
   "execution_count": null,
   "metadata": {},
   "outputs": [],
   "source": [
    "# get audio features, et audio analysis\n",
    "sp.audio_analysis(\"spotify:track:2QjOHCTQ1Jl3zawyYOpxh6\") #Too much\n",
    "sp.audio_features(\"spotify:track:2QjOHCTQ1Jl3zawyYOpxh6\")[0].keys() #Ce qu'on va utiliser"
   ]
  },
  {
   "cell_type": "code",
   "execution_count": null,
   "metadata": {},
   "outputs": [],
   "source": [
    "# for style in musical_styles : \n",
    "#     query = \"genre:'{}'\".format(style)\n",
    "#     search_results = sp.search(q=query, type='track', limit=50)  # Limitez le nombre de résultats ici"
   ]
  },
  {
   "cell_type": "code",
   "execution_count": null,
   "metadata": {},
   "outputs": [],
   "source": []
  }
 ],
 "metadata": {
  "kernelspec": {
   "display_name": "bootcamp",
   "language": "python",
   "name": "python3"
  },
  "language_info": {
   "codemirror_mode": {
    "name": "ipython",
    "version": 3
   },
   "file_extension": ".py",
   "mimetype": "text/x-python",
   "name": "python",
   "nbconvert_exporter": "python",
   "pygments_lexer": "ipython3",
   "version": "3.10.10"
  },
  "orig_nbformat": 4
 },
 "nbformat": 4,
 "nbformat_minor": 2
}
