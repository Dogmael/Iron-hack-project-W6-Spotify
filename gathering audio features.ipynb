{
 "cells": [
  {
   "cell_type": "code",
   "execution_count": 2,
   "metadata": {},
   "outputs": [],
   "source": [
    "import pandas as pd\n",
    "from sqlalchemy import create_engine\n",
    "import spotipy\n",
    "from spotipy.oauth2 import SpotifyClientCredentials\n",
    "import time\n",
    "import getpass\n",
    "import re"
   ]
  },
  {
   "cell_type": "markdown",
   "metadata": {},
   "source": [
    "### Spotify API connection  "
   ]
  },
  {
   "cell_type": "code",
   "execution_count": 3,
   "metadata": {},
   "outputs": [],
   "source": [
    "c_id = getpass.getpass()\n",
    "c_se = getpass.getpass()"
   ]
  },
  {
   "cell_type": "code",
   "execution_count": 4,
   "metadata": {},
   "outputs": [],
   "source": [
    "sp = spotipy.Spotify(auth_manager=SpotifyClientCredentials(client_id=c_id, client_secret=c_se, requests_timeout=1000))"
   ]
  },
  {
   "cell_type": "markdown",
   "metadata": {},
   "source": [
    "### Database connexion"
   ]
  },
  {
   "cell_type": "code",
   "execution_count": 5,
   "metadata": {},
   "outputs": [],
   "source": [
    "pw = \"password1999\"\n",
    "connection_string = 'mysql+pymysql://root:' + pw + '@localhost:3306/'\n",
    "engine = create_engine(connection_string, pool_pre_ping = False)"
   ]
  },
  {
   "cell_type": "markdown",
   "metadata": {},
   "source": [
    "### Merging recommandations tables -whithout audio features-"
   ]
  },
  {
   "cell_type": "code",
   "execution_count": 7,
   "metadata": {},
   "outputs": [],
   "source": [
    "genres = [\"acoustic\", \"afrobeat\", \"alt-rock\", \"alternative\", \"ambient\", \"anime\", \"black-metal\", \"bluegrass\", \"blues\", \"brazil\", \"breakbeat\", \"british\", \"cantopop\", \"chicago-house\", \"children\", \"chill\", \"classical\", \"club\", \"comedy\", \"country\", \"dance\", \"dancehall\", \"death-metal\", \"deep-house\", \"detroit-techno\", \"disco\", \"drum-and-bass\", \"dub\", \"dubstep\", \"edm\", \"electro\", \"electronic\", \"emo\", \"folk\", \"forro\", \"french\", \"funk\", \"garage\", \"german\", \"gospel\", \"goth\", \"grindcore\", \"groove\", \"grunge\", \"guitar\", \"happy\", \"hard-rock\", \"hardcore\", \"hardstyle\", \"heavy-metal\", \"hip-hop\", \"honky-tonk\", \"house\", \"idm\", \"indian\", \"indie\", \"indie-pop\", \"industrial\", \"iranian\", \"j-dance\", \"j-idol\", \"j-pop\", \"j-rock\", \"jazz\", \"k-pop\", \"kids\", \"latin\", \"latino\", \"malay\", \"mandopop\", \"metal\", \"metalcore\", \"minimal-techno\",  \"mpb\", \"new-age\", \"opera\", \"pagode\", \"party\", \"piano\", \"pop\", \"pop-film\", \"power-pop\", \"progressive-house\", \"psych-rock\", \"punk\", \"punk-rock\", \"r-n-b\", \"reggae\", \"reggaeton\",\"rock\", \"rock-n-roll\", \"rockabilly\", \"romance\", \"sad\", \"salsa\", \"samba\", \"sertanejo\", \"show-tunes\", \"singer-songwriter\", \"ska\", \"sleep\", \"songwriter\", \"soul\", \"spanish\", \"study\", \"swedish\", \"synth-pop\", \"tango\", \"techno\", \"trance\", \"trip-hop\", \"turkish\", \"world-music\"]"
   ]
  },
  {
   "cell_type": "code",
   "execution_count": 8,
   "metadata": {},
   "outputs": [],
   "source": [
    "reco_tables = [\"df_{}_reco\".format(genre.replace(\"-\",\"\")) for genre in genres ]"
   ]
  },
  {
   "cell_type": "code",
   "execution_count": 9,
   "metadata": {},
   "outputs": [],
   "source": [
    "def merging_reco_tables() :\n",
    "    pattern = \"(?<=_)[^_]+(?=_)\"\n",
    "\n",
    "    df_reco = pd.read_sql(\"SELECT * FROM `spotify`.`{}`\".format(reco_tables[0]), engine)\n",
    "    df_reco.insert(2,\"track_genre\",re.search(pattern, reco_tables[0]).group(0))\n",
    "\n",
    "    for table_name in reco_tables[1:] :\n",
    "        df_table = pd.read_sql(\"SELECT * FROM `spotify`.`{}`\".format(table_name), engine) #import table in df\n",
    "        df_table.insert(2,\"track_genre\",re.search(pattern, table_name).group(0)) #add the column \"track_genre\" to df\n",
    "        df_reco = pd.concat([df_reco,df_table])\n",
    "    \n",
    "    return df_reco"
   ]
  },
  {
   "cell_type": "code",
   "execution_count": 12,
   "metadata": {},
   "outputs": [],
   "source": [
    "df_merger_reco = merging_reco_tables()"
   ]
  },
  {
   "cell_type": "code",
   "execution_count": 16,
   "metadata": {},
   "outputs": [],
   "source": [
    "df_merger_reco.drop_duplicates(inplace = True, keep = \"first\")"
   ]
  },
  {
   "cell_type": "code",
   "execution_count": 17,
   "metadata": {},
   "outputs": [
    {
     "data": {
      "text/plain": [
       "455876"
      ]
     },
     "execution_count": 17,
     "metadata": {},
     "output_type": "execute_result"
    }
   ],
   "source": [
    "df_merger_reco.to_sql(\"df_all_rec_no_audio\", connection_string, schema='spotify', if_exists='replace', index = False)"
   ]
  },
  {
   "cell_type": "markdown",
   "metadata": {},
   "source": [
    "### Getting audio features"
   ]
  },
  {
   "cell_type": "code",
   "execution_count": 29,
   "metadata": {},
   "outputs": [],
   "source": [
    "def get_audio_features(df_without_audio_features) :\n",
    "    \n",
    "    list_of_dict = []\n",
    "\n",
    "    for i in range(0, df_without_audio_features.shape[0], 100):\n",
    "        time.sleep(1)\n",
    "        sub_list_track_id = list(df_without_audio_features[\"track_id\"][i:i + 100])\n",
    "        sub_list_audio_featues = sp.audio_features(sub_list_track_id) # list of dict : {'danceability': 0.365, 'energy': 0.76, 'key': 4, 'loudness': -6.311, 'mode': 1, 'speechiness': 0.0395, 'acousticness': 0.00328, 'instrumentalness': 6.5e-06, 'liveness': 0.936, 'valence': 0.132, 'tempo': 77.024, 'type': 'audio_features', 'id': '4dd1w41SxD7OAcAVpzUBJL', 'uri': 'spotify:track:4dd1w41SxD7OAcAVpzUBJL', 'track_href': 'https://api.spotify.com/v1/tracks/4dd1w41SxD7OAcAVpzUBJL', 'analysis_url': 'https://api.spotify.com/v1/audio-analysis/4dd1w41SxD7OAcAVpzUBJL', 'duration_ms': 391947, 'time_signature': 4}\n",
    "        list_of_dict.extend(sub_list_audio_featues) # extend() avoid to have a list of list but just a list\n",
    "    \n",
    "    result =  pd.DataFrame.from_dict(list_of_dict)\n",
    "\n",
    "\n",
    "    # Merging\n",
    "    merge_df = df_without_audio_features.merge(result, left_on = \"track_id\", right_on = \"id\")\n",
    "    merge_df = merge_df.drop(\"id\", axis= 1)\n",
    "\n",
    "    return merge_df"
   ]
  },
  {
   "cell_type": "code",
   "execution_count": 60,
   "metadata": {},
   "outputs": [],
   "source": [
    "def get_audio_features(df_without_audio_features) :\n",
    "    \n",
    "    list_of_dict = []\n",
    "    total_df = pd.DataFrame()\n",
    "\n",
    "    for i in range(0, df_without_audio_features.shape[0], 100):\n",
    "        time.sleep(1)\n",
    "        sub_list_track_id = list(df_without_audio_features[\"track_id\"][i:i + 100])\n",
    "        sub_list_audio_featues = sp.audio_features(sub_list_track_id) # list of dict : {'danceability': 0.365, 'energy': 0.76, 'key': 4, 'loudness': -6.311, 'mode': 1, 'speechiness': 0.0395, 'acousticness': 0.00328, 'instrumentalness': 6.5e-06, 'liveness': 0.936, 'valence': 0.132, 'tempo': 77.024, 'type': 'audio_features', 'id': '4dd1w41SxD7OAcAVpzUBJL', 'uri': 'spotify:track:4dd1w41SxD7OAcAVpzUBJL', 'track_href': 'https://api.spotify.com/v1/tracks/4dd1w41SxD7OAcAVpzUBJL', 'analysis_url': 'https://api.spotify.com/v1/audio-analysis/4dd1w41SxD7OAcAVpzUBJL', 'duration_ms': 391947, 'time_signature': 4}\n",
    "        sub_list_audio_featues = [d for d in sub_list_audio_featues if d]\n",
    "\n",
    "        sub_df = pd.DataFrame(sub_list_audio_featues)\n",
    "        total_df = pd.concat([total_df, sub_df]) \n",
    "\n",
    "    # Merging\n",
    "    merge_df = df_without_audio_features.merge(total_df, left_on = \"track_id\", right_on = \"id\")\n",
    "    merge_df = merge_df.drop(\"id\", axis= 1)\n",
    "\n",
    "    return merge_df"
   ]
  },
  {
   "cell_type": "code",
   "execution_count": 68,
   "metadata": {},
   "outputs": [],
   "source": [
    "selected_rows = df_merger_reco[::9]"
   ]
  },
  {
   "cell_type": "code",
   "execution_count": 69,
   "metadata": {},
   "outputs": [],
   "source": [
    "df_reco_audio_9 = get_audio_features(selected_rows)"
   ]
  },
  {
   "cell_type": "code",
   "execution_count": 70,
   "metadata": {},
   "outputs": [
    {
     "data": {
      "text/plain": [
       "63840"
      ]
     },
     "execution_count": 70,
     "metadata": {},
     "output_type": "execute_result"
    }
   ],
   "source": [
    "df_reco_audio_9.to_sql(\"df_reco_audio_9\", connection_string, schema='spotify', if_exists='replace', index = False)"
   ]
  },
  {
   "cell_type": "markdown",
   "metadata": {},
   "source": [
    "### Merging complet dataframe"
   ]
  },
  {
   "cell_type": "code",
   "execution_count": 6,
   "metadata": {},
   "outputs": [],
   "source": [
    "df_complet = pd.read_sql(\"SELECT * FROM spotify.df_complet\", engine)\n",
    "df_reco_audio_10 = pd.read_sql(\"SELECT * FROM spotify.df_reco_audio_10\", engine)\n",
    "df_reco_audio_9 = pd.read_sql(\"SELECT * FROM spotify.df_reco_audio_9\", engine)\n",
    "\n",
    "df_complet = pd.concat([df_complet,df_reco_audio_10,df_reco_audio_9])"
   ]
  },
  {
   "cell_type": "code",
   "execution_count": 8,
   "metadata": {},
   "outputs": [
    {
     "data": {
      "text/plain": [
       "(207963, 29)"
      ]
     },
     "execution_count": 8,
     "metadata": {},
     "output_type": "execute_result"
    }
   ],
   "source": [
    "df_complet.shape"
   ]
  },
  {
   "cell_type": "code",
   "execution_count": 9,
   "metadata": {},
   "outputs": [
    {
     "data": {
      "text/plain": [
       "(178039, 29)"
      ]
     },
     "execution_count": 9,
     "metadata": {},
     "output_type": "execute_result"
    }
   ],
   "source": [
    "df_complet.drop_duplicates(inplace = True)\n",
    "df_complet.shape"
   ]
  },
  {
   "cell_type": "code",
   "execution_count": 11,
   "metadata": {},
   "outputs": [
    {
     "data": {
      "text/plain": [
       "178039"
      ]
     },
     "execution_count": 11,
     "metadata": {},
     "output_type": "execute_result"
    }
   ],
   "source": [
    "df_complet.to_sql(\"df_complet\", connection_string, schema='spotify', if_exists='replace', index = False)"
   ]
  }
 ],
 "metadata": {
  "kernelspec": {
   "display_name": "bootcamp",
   "language": "python",
   "name": "python3"
  },
  "language_info": {
   "codemirror_mode": {
    "name": "ipython",
    "version": 3
   },
   "file_extension": ".py",
   "mimetype": "text/x-python",
   "name": "python",
   "nbconvert_exporter": "python",
   "pygments_lexer": "ipython3",
   "version": "3.10.10"
  },
  "orig_nbformat": 4
 },
 "nbformat": 4,
 "nbformat_minor": 2
}
