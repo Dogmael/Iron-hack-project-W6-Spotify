{
 "cells": [
  {
   "cell_type": "markdown",
   "id": "d6bc4b7a",
   "metadata": {},
   "source": [
    "### Importing librairies"
   ]
  },
  {
   "cell_type": "code",
   "execution_count": 2,
   "id": "65b4193b",
   "metadata": {},
   "outputs": [],
   "source": [
    "import numpy as np\n",
    "import pandas as pd\n",
    "import matplotlib.pyplot as plt\n",
    "from sqlalchemy import create_engine\n",
    "import sklearn.preprocessing\n",
    "import sklearn.cluster"
   ]
  },
  {
   "cell_type": "markdown",
   "id": "c760a36c",
   "metadata": {},
   "source": [
    "### Database connexion"
   ]
  },
  {
   "cell_type": "code",
   "execution_count": 3,
   "id": "0ac298f0",
   "metadata": {},
   "outputs": [],
   "source": [
    "pw = \"password1999\"\n",
    "connection_string = 'mysql+pymysql://root:' + pw + '@localhost:3306/'\n",
    "engine = create_engine(connection_string, pool_pre_ping = False)"
   ]
  },
  {
   "cell_type": "markdown",
   "id": "0ace9f44",
   "metadata": {},
   "source": [
    "### Training parameters"
   ]
  },
  {
   "cell_type": "code",
   "execution_count": 4,
   "id": "dbd489ad",
   "metadata": {},
   "outputs": [],
   "source": [
    "df_feat = pd.read_sql(\"SELECT * FROM spotify.df_features_all_genres\", engine) #Reading database"
   ]
  },
  {
   "cell_type": "code",
   "execution_count": 5,
   "id": "6d99410b",
   "metadata": {},
   "outputs": [
    {
     "data": {
      "text/plain": [
       "(87574, 18)"
      ]
     },
     "execution_count": 5,
     "metadata": {},
     "output_type": "execute_result"
    }
   ],
   "source": [
    "df_feat.drop_duplicates(inplace= True)\n",
    "df_feat.shape"
   ]
  },
  {
   "cell_type": "code",
   "execution_count": 15,
   "id": "a70d2446",
   "metadata": {},
   "outputs": [],
   "source": [
    "X = df_feat.iloc[:,0:11]\n",
    "X.drop_duplicates(inplace=True, keep=\"first\")\n",
    "\n",
    "scaler = sklearn.preprocessing.StandardScaler()\n",
    "scaler.fit(X)\n",
    "X_scaled = scaler.transform(X) #numpy array as result\n",
    "X_scaled_df = pd.DataFrame(X_scaled, columns = X.columns) #converting to df to see\n",
    "\n",
    "K = range(8000,10000,500)\n",
    "inertia = []"
   ]
  },
  {
   "cell_type": "markdown",
   "id": "1426d05e",
   "metadata": {},
   "source": [
    "### Model training"
   ]
  },
  {
   "cell_type": "code",
   "execution_count": 16,
   "id": "20c30020",
   "metadata": {},
   "outputs": [
    {
     "name": "stdout",
     "output_type": "stream",
     "text": [
      "Training a K-Means model with 8000 clusters! \n",
      "\n"
     ]
    },
    {
     "name": "stderr",
     "output_type": "stream",
     "text": [
      "/Users/dogmael/anaconda3/envs/bootcamp/lib/python3.10/site-packages/sklearn/cluster/_kmeans.py:1412: FutureWarning: The default value of `n_init` will change from 10 to 'auto' in 1.4. Set the value of `n_init` explicitly to suppress the warning\n",
      "  super()._check_params_vs_input(X, default_n_init=10)\n"
     ]
    },
    {
     "name": "stdout",
     "output_type": "stream",
     "text": [
      "intertia =  [48204.99461279578]\n",
      "Training a K-Means model with 8500 clusters! \n",
      "\n"
     ]
    },
    {
     "name": "stderr",
     "output_type": "stream",
     "text": [
      "/Users/dogmael/anaconda3/envs/bootcamp/lib/python3.10/site-packages/sklearn/cluster/_kmeans.py:1412: FutureWarning: The default value of `n_init` will change from 10 to 'auto' in 1.4. Set the value of `n_init` explicitly to suppress the warning\n",
      "  super()._check_params_vs_input(X, default_n_init=10)\n"
     ]
    },
    {
     "name": "stdout",
     "output_type": "stream",
     "text": [
      "intertia =  [48204.99461279578, 46725.40012696323]\n",
      "Training a K-Means model with 9000 clusters! \n",
      "\n"
     ]
    },
    {
     "name": "stderr",
     "output_type": "stream",
     "text": [
      "/Users/dogmael/anaconda3/envs/bootcamp/lib/python3.10/site-packages/sklearn/cluster/_kmeans.py:1412: FutureWarning: The default value of `n_init` will change from 10 to 'auto' in 1.4. Set the value of `n_init` explicitly to suppress the warning\n",
      "  super()._check_params_vs_input(X, default_n_init=10)\n"
     ]
    },
    {
     "name": "stdout",
     "output_type": "stream",
     "text": [
      "intertia =  [48204.99461279578, 46725.40012696323, 45325.90783501073]\n",
      "Training a K-Means model with 9500 clusters! \n",
      "\n"
     ]
    },
    {
     "name": "stderr",
     "output_type": "stream",
     "text": [
      "/Users/dogmael/anaconda3/envs/bootcamp/lib/python3.10/site-packages/sklearn/cluster/_kmeans.py:1412: FutureWarning: The default value of `n_init` will change from 10 to 'auto' in 1.4. Set the value of `n_init` explicitly to suppress the warning\n",
      "  super()._check_params_vs_input(X, default_n_init=10)\n"
     ]
    },
    {
     "name": "stdout",
     "output_type": "stream",
     "text": [
      "intertia =  [48204.99461279578, 46725.40012696323, 45325.90783501073, 44053.24191713231]\n"
     ]
    }
   ],
   "source": [
    "for k in K: #for every data in set build a inertia\n",
    "    print(\"Training a K-Means model with {} clusters! \".format(k))\n",
    "    print()\n",
    "    kmeans = sklearn.cluster.KMeans(n_clusters=k,random_state=128)\n",
    "    kmeans.fit(X_scaled_df)\n",
    "    inertia.append(kmeans.inertia_)\n",
    "    print(\"intertia = \", inertia)"
   ]
  },
  {
   "cell_type": "code",
   "execution_count": 17,
   "id": "3bed1c8a",
   "metadata": {},
   "outputs": [
    {
     "data": {
      "text/plain": [
       "[48204.99461279578, 46725.40012696323, 45325.90783501073, 44053.24191713231]"
      ]
     },
     "execution_count": 17,
     "metadata": {},
     "output_type": "execute_result"
    }
   ],
   "source": [
    "inertia"
   ]
  },
  {
   "cell_type": "markdown",
   "id": "210e6cff",
   "metadata": {},
   "source": [
    "#### Plotting"
   ]
  },
  {
   "cell_type": "code",
   "execution_count": 20,
   "id": "c0dcbda9",
   "metadata": {},
   "outputs": [
    {
     "data": {
      "text/plain": [
       "[<matplotlib.lines.Line2D at 0x139cdcc40>]"
      ]
     },
     "execution_count": 20,
     "metadata": {},
     "output_type": "execute_result"
    },
    {
     "data": {
      "image/png": "[encoded data removed]",
      "text/plain": [
       "<Figure size 640x480 with 1 Axes>"
      ]
     },
     "metadata": {},
     "output_type": "display_data"
    }
   ],
   "source": [
    "x1 = [i for i in range (1000,2001,50)]\n",
    "y1 = [105574.55466910769, 103950.39116314708, 102410.11871781341, 100923.61870065177, 99597.816365346, 98276.1288982061, 97114.78583660656, 95792.31528650242, 94736.74301931445, 93669.96601800667, 92716.42433748054, 91690.34196338589, 90714.53021726443, 89824.71812727796, 88926.4333028888, 88048.84414884163, 87285.97253229874, 86526.64308126969, 85762.73028540403, 84996.91929100978, 84248.81068549574]\n",
    "x2 = [i for i in range(2500,8000,500)]\n",
    "y2 = [77974.86253798619, 73054.93053993932, 69017.49102026774, 65503.99071894758, 62481.23982316518, 59801.61609052043, 57370.713817594355, 55255.92489737648, 53299.73211427243, 51468.1883782836, 49727.84877880573]\n",
    "x3 = [i for i in range(8000,10000,500)]\n",
    "y3 = [48204.99461279578, 46725.40012696323, 45325.90783501073, 44053.24191713231]\n",
    "plt.plot(x1+x2+x3,y1+y2+y3)"
   ]
  }
 ],
 "metadata": {
  "kernelspec": {
   "display_name": "Python 3 (ipykernel)",
   "language": "python",
   "name": "python3"
  },
  "language_info": {
   "codemirror_mode": {
    "name": "ipython",
    "version": 3
   },
   "file_extension": ".py",
   "mimetype": "text/x-python",
   "name": "python",
   "nbconvert_exporter": "python",
   "pygments_lexer": "ipython3",
   "version": "3.10.10"
  }
 },
 "nbformat": 4,
 "nbformat_minor": 5
}
